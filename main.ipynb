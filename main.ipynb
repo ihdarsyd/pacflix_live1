{
 "cells": [
  {
   "cell_type": "code",
   "execution_count": 1,
   "metadata": {},
   "outputs": [],
   "source": [
    "from user import *"
   ]
  },
  {
   "cell_type": "code",
   "execution_count": 2,
   "metadata": {},
   "outputs": [],
   "source": [
    "user_1 = User()"
   ]
  },
  {
   "cell_type": "code",
   "execution_count": 6,
   "metadata": {},
   "outputs": [],
   "source": [
    "user_1.login(\"Ana\")"
   ]
  },
  {
   "cell_type": "code",
   "execution_count": 7,
   "metadata": {},
   "outputs": [
    {
     "name": "stdout",
     "output_type": "stream",
     "text": [
      "Pacflix Plan List\n",
      "\n",
      "Basic Plan            Standard Plan                Premium Plan                                          Services\n",
      "--------------------  ---------------------------  ----------------------------------------------------  -----------------\n",
      "True                  True                         True                                                  Bisa Stream\n",
      "True                  True                         True                                                  Bisa Download\n",
      "True                  True                         True                                                  Kualitas SD\n",
      "False                 True                         True                                                  Kualitas HD\n",
      "False                 False                        True                                                  Kualitas UHD\n",
      "1                     2                            4                                                     Number of Devices\n",
      "3rd party Movie only  Basic Plan Content + Sports  Basic Plan + Standard Plan + PacFlix Original Series  Jenis Konten\n",
      "120000                160000                       200000                                                Harga\n"
     ]
    }
   ],
   "source": [
    "user_1.check_benefit()"
   ]
  },
  {
   "cell_type": "code",
   "execution_count": 8,
   "metadata": {},
   "outputs": [
    {
     "name": "stdout",
     "output_type": "stream",
     "text": [
      "User Ana sedang berlangganan:\n",
      "Standard Plan                Services\n",
      "---------------------------  -----------------\n",
      "True                         Bisa Stream\n",
      "True                         Bisa Download\n",
      "True                         Kualitas SD\n",
      "True                         Kualitas HD\n",
      "False                        Kualitas UHD\n",
      "2                            Number of Devices\n",
      "Basic Plan Content + Sports  Jenis Konten\n",
      "160000                       Harga\n"
     ]
    }
   ],
   "source": [
    "user_1.check_plan()"
   ]
  },
  {
   "cell_type": "code",
   "execution_count": null,
   "metadata": {},
   "outputs": [],
   "source": []
  }
 ],
 "metadata": {
  "kernelspec": {
   "display_name": "Python 3",
   "language": "python",
   "name": "python3"
  },
  "language_info": {
   "codemirror_mode": {
    "name": "ipython",
    "version": 3
   },
   "file_extension": ".py",
   "mimetype": "text/x-python",
   "name": "python",
   "nbconvert_exporter": "python",
   "pygments_lexer": "ipython3",
   "version": "3.11.9"
  }
 },
 "nbformat": 4,
 "nbformat_minor": 2
}
